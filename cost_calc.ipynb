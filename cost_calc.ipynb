{
 "cells": [
  {
   "cell_type": "code",
   "execution_count": 1,
   "metadata": {},
   "outputs": [],
   "source": [
    "import tiktoken\n",
    "\n",
    "def calculate_openai_cost(\n",
    "    prompt_tokens=0,\n",
    "    completion_tokens=0,\n",
    "    image_count=0,\n",
    "    resolution=\"low\",  # \"low\", \"high\", \"auto\"\n",
    "    model=\"gpt-4-vision-preview\",\n",
    "):\n",
    "    \"\"\"Calculates the cost of using OpenAI's GPT-4 with vision capabilities.\n",
    "\n",
    "    Args:\n",
    "        prompt_tokens: Number of prompt tokens.\n",
    "        completion_tokens: Number of completion tokens.\n",
    "        image_count: Number of images processed.\n",
    "        resolution: Resolution of the images (\"low\", \"high\", \"auto\").\n",
    "        model: The model being used (defaults to gpt-4-vision-preview).\n",
    "\n",
    "    Returns:\n",
    "        The estimated cost in USD.\n",
    "        Returns None if the model is not supported.\n",
    "    \"\"\"\n",
    "\n",
    "    if model != \"gpt-4-vision-preview\":\n",
    "        print(f\"Model {model} is not currently supported for cost calculation.\")\n",
    "        return None\n",
    "\n",
    "    prompt_price_per_1k = 0.03\n",
    "    completion_price_per_1k = 0.06\n",
    "\n",
    "    image_prices = {\n",
    "        \"low\": 0.00085,  # Per image\n",
    "        \"high\": 0.0085, # Per image\n",
    "        \"auto\": 0.00255, # Per image\n",
    "    }\n",
    "\n",
    "    if resolution not in image_prices:\n",
    "        raise ValueError(\"Invalid resolution. Choose 'low', 'high', or 'auto'.\")\n",
    "\n",
    "    prompt_cost = (prompt_tokens / 1000) * prompt_price_per_1k\n",
    "    completion_cost = (completion_tokens / 1000) * completion_price_per_1k\n",
    "    image_cost = image_count * image_prices[resolution]\n",
    "\n",
    "    total_cost = prompt_cost + completion_cost + image_cost\n",
    "    return total_cost\n",
    "\n",
    "\n",
    "def count_tokens(text, model=\"gpt-4\"):\n",
    "    \"\"\"Counts tokens in a text string using tiktoken.\"\"\"\n",
    "    try:\n",
    "        encoding = tiktoken.encoding_for_model(model)\n",
    "    except KeyError:\n",
    "        print(\"Warning: model not found. Using cl100k_base encoding.\")\n",
    "        encoding = tiktoken.get_encoding(\"cl100k_base\")\n",
    "    num_tokens = len(encoding.encode(text))\n",
    "    return num_tokens\n"
   ]
  },
  {
   "cell_type": "code",
   "execution_count": 2,
   "metadata": {},
   "outputs": [
    {
     "name": "stdout",
     "output_type": "stream",
     "text": [
      "Instruction Tokens: 7\n",
      "Completion Tokens: 10\n"
     ]
    }
   ],
   "source": [
    "\n",
    "# Example usage:\n",
    "prompt_text = \"Describe this image in detail: \"\n",
    "image_url = \"https://example.com/image.jpg\" # Example URL\n",
    "instruction_tokens = count_tokens(prompt_text)\n",
    "print(f\"Instruction Tokens: {instruction_tokens}\")\n",
    "completion_text = \"The image shows a cat sitting on a mat.\"\n",
    "completion_tokens = count_tokens(completion_text)\n",
    "print(f\"Completion Tokens: {completion_tokens}\")\n",
    "\n",
    "cost = calculate_openai_cost(\n",
    "    prompt_tokens=instruction_tokens,\n",
    "    completion_tokens=completion_tokens,\n",
    "    image_count=1,\n",
    "    resolution=\"high\",\n",
    ")\n",
    "\n",
    "if cost is not None:\n",
    "    print(f\"Estimated cost: ${cost:.6f}\")"
   ]
  },
  {
   "cell_type": "code",
   "execution_count": 3,
   "metadata": {},
   "outputs": [
    {
     "name": "stdout",
     "output_type": "stream",
     "text": [
      "Estimated cost: $0.009310\n",
      "Estimated cost (auto resolution): $0.003360\n",
      "Estimated cost (low resolution): $0.001660\n",
      "Estimated cost (multiple images): $0.038100\n"
     ]
    }
   ],
   "source": [
    "\n",
    "\n",
    "cost_auto = calculate_openai_cost(\n",
    "    prompt_tokens=instruction_tokens,\n",
    "    completion_tokens=completion_tokens,\n",
    "    image_count=1,\n",
    "    resolution=\"auto\",\n",
    ")\n",
    "\n",
    "if cost_auto is not None:\n",
    "    print(f\"Estimated cost (auto resolution): ${cost_auto:.6f}\")\n",
    "\n",
    "cost_low = calculate_openai_cost(\n",
    "    prompt_tokens=instruction_tokens,\n",
    "    completion_tokens=completion_tokens,\n",
    "    image_count=1,\n",
    "    resolution=\"low\",\n",
    ")\n",
    "\n",
    "if cost_low is not None:\n",
    "    print(f\"Estimated cost (low resolution): ${cost_low:.6f}\")\n",
    "\n",
    "# Example with multiple images and longer text\n",
    "long_prompt = \"Describe these 3 images in detail, focusing on the differences between them:\\n\"\n",
    "long_prompt_tokens = count_tokens(long_prompt)\n",
    "\n",
    "cost_multiple = calculate_openai_cost(\n",
    "    prompt_tokens=long_prompt_tokens,\n",
    "    completion_tokens=500, # Example\n",
    "    image_count=3,\n",
    "    resolution=\"auto\",\n",
    ")\n",
    "\n",
    "if cost_multiple is not None:\n",
    "    print(f\"Estimated cost (multiple images): ${cost_multiple:.6f}\")"
   ]
  }
 ],
 "metadata": {
  "kernelspec": {
   "display_name": "venv",
   "language": "python",
   "name": "python3"
  },
  "language_info": {
   "codemirror_mode": {
    "name": "ipython",
    "version": 3
   },
   "file_extension": ".py",
   "mimetype": "text/x-python",
   "name": "python",
   "nbconvert_exporter": "python",
   "pygments_lexer": "ipython3",
   "version": "3.11.11"
  }
 },
 "nbformat": 4,
 "nbformat_minor": 2
}
