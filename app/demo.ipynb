{
 "cells": [
  {
   "cell_type": "code",
   "execution_count": 1,
   "metadata": {},
   "outputs": [
    {
     "name": "stdout",
     "output_type": "stream",
     "text": [
      "base /Users/szymonkrawczyk/Documents/code/repos/ocr-circus\n"
     ]
    }
   ],
   "source": [
    "from functions_pdf import *\n",
    "from functions_llm import *\n",
    "from functions import *\n",
    "import pymupdf\n",
    "\n",
    "from pathlib import Path\n",
    "import os\n",
    "os.chdir(\"../\")\n",
    "\n",
    "BASE_DIR = Path().resolve() \n",
    "print(f\"base {BASE_DIR}\")"
   ]
  },
  {
   "cell_type": "code",
   "execution_count": 2,
   "metadata": {},
   "outputs": [],
   "source": [
    "folder = BASE_DIR / \"data\" \n",
    "folder_screen = BASE_DIR / \"data\" / \"pdf_screenshots\"\n",
    "output_path = BASE_DIR / \"output\"\n",
    "\n",
    "pdf_path = f\"{folder}/sel12fotopages.pdf\"\n",
    "doc = pymupdf.open(pdf_path)\n",
    "doc = pdf_select_pages(doc, 3, 4)"
   ]
  },
  {
   "cell_type": "code",
   "execution_count": 3,
   "metadata": {},
   "outputs": [
    {
     "data": {
      "text/plain": [
       "'Screenshots saved to /Users/szymonkrawczyk/Documents/code/repos/ocr-circus/data/pdf_screenshots'"
      ]
     },
     "execution_count": 3,
     "metadata": {},
     "output_type": "execute_result"
    }
   ],
   "source": [
    "pdf_doc2screenshots(doc, folder_screen)"
   ]
  },
  {
   "cell_type": "code",
   "execution_count": 27,
   "metadata": {},
   "outputs": [
    {
     "data": {
      "text/plain": [
       "\"All contents of the folder '/Users/szymonkrawczyk/Documents/code/repos/ocr-circus/data/pdf_screenshots' have been removed.\""
      ]
     },
     "execution_count": 27,
     "metadata": {},
     "output_type": "execute_result"
    }
   ],
   "source": [
    "remove_folder_content(folder_screen)\n"
   ]
  },
  {
   "cell_type": "code",
   "execution_count": 4,
   "metadata": {},
   "outputs": [],
   "source": [
    "\n",
    "img_path = f\"{folder}/ai1p103.jpeg\"\n",
    "response = run_llm(img_path)\n"
   ]
  },
  {
   "cell_type": "code",
   "execution_count": 5,
   "metadata": {},
   "outputs": [],
   "source": [
    "\n",
    "save_as_markdown(response.content, just_filename(img_path),output_path)\n"
   ]
  },
  {
   "cell_type": "code",
   "execution_count": 5,
   "metadata": {},
   "outputs": [
    {
     "data": {
      "text/plain": [
       "['/Users/szymonkrawczyk/Documents/code/repos/ocr-circus/data/pdf_screenshots/sel12fotopages_p1.png',\n",
       " '/Users/szymonkrawczyk/Documents/code/repos/ocr-circus/data/pdf_screenshots/sel12fotopages_p2.png']"
      ]
     },
     "execution_count": 5,
     "metadata": {},
     "output_type": "execute_result"
    }
   ],
   "source": [
    "\n",
    "img_folder_path =folder_screen\n",
    "\n",
    "\n",
    "folder_path_to_files_paths(img_folder_path)"
   ]
  },
  {
   "cell_type": "code",
   "execution_count": 4,
   "metadata": {},
   "outputs": [
    {
     "name": "stdout",
     "output_type": "stream",
     "text": [
      "Saved sel12fotopages_p1\n"
     ]
    }
   ],
   "source": [
    "lmm_runner(img_folder_path)"
   ]
  },
  {
   "cell_type": "code",
   "execution_count": 3,
   "metadata": {},
   "outputs": [],
   "source": [
    "\n",
    "join_markdown_files(output_path)"
   ]
  },
  {
   "cell_type": "code",
   "execution_count": 8,
   "metadata": {},
   "outputs": [],
   "source": [
    "def lmm_runner(img_folder_path):\n",
    "    for img_path in folder_path_to_files_paths(img_folder_path):\n",
    "        response = run_llm(img_path)\n",
    "        save_as_markdown(response.content, just_filename(img_path))\n",
    "        print(f\"Saved {just_filename(img_path)}\")"
   ]
  },
  {
   "cell_type": "code",
   "execution_count": 5,
   "metadata": {},
   "outputs": [],
   "source": [
    "def runner(pdf_path, start_page=None, end_page=None):\n",
    "    doc = pymupdf.open(pdf_path)\n",
    "    doc = pdf_select_pages(doc, start_page, end_page)\n",
    "    img_output_folder = \"../data/pdf_screenshots\"\n",
    "    pdf_doc2screenshots(doc, img_output_folder)\n",
    "    lmm_runner(img_output_folder)\n",
    "    remove_folder_content(img_output_folder)\n",
    "    out_folder_path=\"../output\"\n",
    "    join_markdown_files(out_folder_path)"
   ]
  },
  {
   "cell_type": "code",
   "execution_count": 9,
   "metadata": {},
   "outputs": [
    {
     "name": "stdout",
     "output_type": "stream",
     "text": [
      "Saved ai1_Extracted102_105_p4\n",
      "Saved ai1_Extracted102_105_p1\n",
      "Saved ai1_Extracted102_105_p3\n",
      "Saved ai1_Extracted102_105_p2\n"
     ]
    }
   ],
   "source": [
    "runner(f\"{folder}/ai1_Extracted102_105.pdf\")"
   ]
  }
 ],
 "metadata": {
  "kernelspec": {
   "display_name": "venv",
   "language": "python",
   "name": "python3"
  },
  "language_info": {
   "codemirror_mode": {
    "name": "ipython",
    "version": 3
   },
   "file_extension": ".py",
   "mimetype": "text/x-python",
   "name": "python",
   "nbconvert_exporter": "python",
   "pygments_lexer": "ipython3",
   "version": "3.11.11"
  }
 },
 "nbformat": 4,
 "nbformat_minor": 2
}
