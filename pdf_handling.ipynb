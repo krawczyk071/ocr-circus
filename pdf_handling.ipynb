{
 "cells": [
  {
   "cell_type": "code",
   "execution_count": 9,
   "metadata": {},
   "outputs": [],
   "source": [
    "pdf_file = \"data/sel12fotopages.pdf\""
   ]
  },
  {
   "cell_type": "code",
   "execution_count": null,
   "metadata": {},
   "outputs": [],
   "source": [
    "# Selecting Pages\n",
    "import pymupdf\n",
    "\n",
    "doc = pymupdf.open(pdf_file) # open a document\n",
    "doc.select([0, 1]) # select the 1st & 2nd page of the document\n",
    "doc.save(\"just-page-one-and-two.pdf\") # save the document"
   ]
  },
  {
   "cell_type": "code",
   "execution_count": 4,
   "metadata": {},
   "outputs": [],
   "source": [
    "import fitz  # PyMuPDF\n",
    "\n",
    "def extract_images_from_pdf(pdf_path, output_folder=\"data/extracted_images\"):\n",
    "    try:\n",
    "        doc = fitz.open(pdf_path)\n",
    "        image_count = 0\n",
    "        for page_num in range(doc.page_count):\n",
    "            page = doc[page_num]\n",
    "            image_list = page.get_images(full=True)  # Get image info\n",
    "            for img_index, img in enumerate(image_list):\n",
    "                xref = img[0]\n",
    "                base_image = doc.extract_image(xref)\n",
    "                image_bytes = base_image[\"image\"]\n",
    "                image_ext = base_image[\"ext\"]\n",
    "                with open(f\"{output_folder}/page{page_num+1}_img{img_index}.{image_ext}\", \"wb\") as f:\n",
    "                    f.write(image_bytes)\n",
    "                image_count += 1\n",
    "        return f\"Extracted {image_count} images to {output_folder}\"\n",
    "    except fitz.fitz.FileNotFoundError:\n",
    "        return \"Error: PDF file not found.\"\n",
    "    except Exception as e:\n",
    "        return f\"An error occurred: {e}\"\n"
   ]
  },
  {
   "cell_type": "code",
   "execution_count": 7,
   "metadata": {},
   "outputs": [],
   "source": [
    "#Screenshots\n",
    "from PIL import Image\n",
    "\n",
    "def pdf_page_to_image(pdf_path, output_folder=\"data/pdf_screenshots\", zoom_x=2.0, zoom_y=2.0):  # zoom increases resolution\n",
    "    try:\n",
    "        doc = fitz.open(pdf_path)\n",
    "        mat = fitz.Matrix(zoom_x, zoom_y)  # zoom factor 2 in each dimension\n",
    "\n",
    "        for page_num in range(doc.page_count):\n",
    "            page = doc[page_num]\n",
    "            pix = page.get_pixmap(matrix=mat) # render page to an image\n",
    "            img = Image.frombytes(\"RGB\", [pix.width, pix.height], pix.samples)\n",
    "            img.save(f\"{output_folder}/page{page_num + 1}.png\")\n",
    "        return f\"Screenshots saved to {output_folder}\"\n",
    "    except fitz.fitz.FileNotFoundError:\n",
    "        return \"Error: PDF file not found.\"\n",
    "    except Exception as e:\n",
    "        return f\"An error occurred: {e}\"\n"
   ]
  },
  {
   "cell_type": "code",
   "execution_count": 5,
   "metadata": {},
   "outputs": [
    {
     "name": "stdout",
     "output_type": "stream",
     "text": [
      "Extracted 96 images to data/extracted_images\n"
     ]
    }
   ],
   "source": [
    "\n",
    "result = extract_images_from_pdf(pdf_file)\n",
    "print(result)"
   ]
  },
  {
   "cell_type": "code",
   "execution_count": 10,
   "metadata": {},
   "outputs": [
    {
     "name": "stdout",
     "output_type": "stream",
     "text": [
      "Screenshots saved to data/pdf_screenshots\n"
     ]
    }
   ],
   "source": [
    "\n",
    "result = pdf_page_to_image(pdf_file)\n",
    "print(result)"
   ]
  }
 ],
 "metadata": {
  "kernelspec": {
   "display_name": "venv",
   "language": "python",
   "name": "python3"
  },
  "language_info": {
   "codemirror_mode": {
    "name": "ipython",
    "version": 3
   },
   "file_extension": ".py",
   "mimetype": "text/x-python",
   "name": "python",
   "nbconvert_exporter": "python",
   "pygments_lexer": "ipython3",
   "version": "3.11.11"
  }
 },
 "nbformat": 4,
 "nbformat_minor": 2
}
