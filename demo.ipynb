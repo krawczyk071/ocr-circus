{
 "cells": [
  {
   "cell_type": "code",
   "execution_count": 4,
   "metadata": {},
   "outputs": [],
   "source": [
    "from dotenv import load_dotenv\n",
    "import os\n",
    "\n",
    "load_dotenv()  # Load variables from .env\n",
    "OPENAI_API_KEY = os.getenv(\"OPENAI_API_KEY\")"
   ]
  },
  {
   "cell_type": "code",
   "execution_count": 2,
   "metadata": {},
   "outputs": [
    {
     "name": "stderr",
     "output_type": "stream",
     "text": [
      "/Users/szymonkrawczyk/Documents/code/repos/ocr-circus/venv/lib/python3.11/site-packages/IPython/core/interactiveshell.py:3577: LangChainDeprecationWarning: As of langchain-core 0.3.0, LangChain uses pydantic v2 internally. The langchain_core.pydantic_v1 module was a compatibility shim for pydantic v1, and should no longer be used. Please update the code to import from Pydantic directly.\n",
      "\n",
      "For example, replace imports like: `from langchain_core.pydantic_v1 import BaseModel`\n",
      "with: `from pydantic import BaseModel`\n",
      "or the v1 compatibility namespace if you are working in a code base that has not been fully upgraded to pydantic 2 yet. \tfrom pydantic.v1 import BaseModel\n",
      "\n",
      "  exec(code_obj, self.user_global_ns, self.user_ns)\n"
     ]
    }
   ],
   "source": [
    "# Import Langchain modules\n",
    "from langchain.document_loaders import PyPDFLoader\n",
    "from langchain.text_splitter import RecursiveCharacterTextSplitter\n",
    "from langchain_openai import OpenAIEmbeddings, ChatOpenAI\n",
    "from langchain.vectorstores import Chroma\n",
    "from langchain_core.runnables import RunnablePassthrough\n",
    "from langchain_core.prompts import ChatPromptTemplate\n",
    "from langchain_core.pydantic_v1 import BaseModel, Field\n",
    "\n",
    "# Other modules and packages\n",
    "import os\n",
    "# import tempfile\n",
    "import streamlit as st  \n",
    "import pandas as pd"
   ]
  },
  {
   "cell_type": "code",
   "execution_count": 5,
   "metadata": {},
   "outputs": [
    {
     "data": {
      "text/plain": [
       "AIMessage(content='Why was the cat sitting on the computer? \\n\\nBecause it wanted to keep an eye on the mouse!', additional_kwargs={'refusal': None}, response_metadata={'token_usage': {'completion_tokens': 22, 'prompt_tokens': 13, 'total_tokens': 35, 'completion_tokens_details': {'accepted_prediction_tokens': 0, 'audio_tokens': 0, 'reasoning_tokens': 0, 'rejected_prediction_tokens': 0}, 'prompt_tokens_details': {'audio_tokens': 0, 'cached_tokens': 0}}, 'model_name': 'gpt-4o-mini-2024-07-18', 'system_fingerprint': 'fp_72ed7ab54c', 'finish_reason': 'stop', 'logprobs': None}, id='run-fe143937-fd48-491e-a05e-fbfad8b0c525-0', usage_metadata={'input_tokens': 13, 'output_tokens': 22, 'total_tokens': 35, 'input_token_details': {'audio': 0, 'cache_read': 0}, 'output_token_details': {'audio': 0, 'reasoning': 0}})"
      ]
     },
     "execution_count": 5,
     "metadata": {},
     "output_type": "execute_result"
    }
   ],
   "source": [
    "llm = ChatOpenAI(model=\"gpt-4o-mini\", api_key=OPENAI_API_KEY)\n",
    "llm.invoke(\"Tell me a joke about cats\")"
   ]
  },
  {
   "cell_type": "code",
   "execution_count": null,
   "metadata": {},
   "outputs": [],
   "source": [
    "loader = PyPDFLoader(\"data/Oppenheimer-2006-Applied_Cognitive_Psychology.pdf\")\n",
    "pages = loader.load()\n",
    "pages"
   ]
  },
  {
   "cell_type": "code",
   "execution_count": null,
   "metadata": {},
   "outputs": [],
   "source": [
    "text_splitter = RecursiveCharacterTextSplitter(chunk_size=1500,\n",
    "                                            chunk_overlap=200,\n",
    "                                            length_function=len,\n",
    "                                            separators=[\"\\n\\n\", \"\\n\", \" \"])\n",
    "chunks = text_splitter.split_documents(pages)"
   ]
  },
  {
   "cell_type": "code",
   "execution_count": 45,
   "metadata": {},
   "outputs": [],
   "source": [
    "# Prompt template\n",
    "PROMPT_TEMPLATE_BASE = \"\"\"\n",
    "You are an assistant for question-answering tasks.\n",
    "Use the following pieces of retrieved context to answer\n",
    "the question. If you don't know the answer, say that you\n",
    "don't know. DON'T MAKE UP ANYTHING.\n",
    "\n",
    "{context}\n",
    "\n",
    "---\n",
    "\n",
    "Answer the question based on the above context: {question}\n",
    "\"\"\"\n",
    "\n",
    "PROMPT_TEMPLATE = \"\"\"\n",
    "You are an expert PDF OCR and markdown conversion assistant.\n",
    "Given an image of full page scanned spanish textbook:\n",
    "1. Perform full OCR processing\n",
    "2. Preserve original document structure\n",
    "3. Convert to clean markdown\n",
    "4. Maintain:\n",
    "   - Original formatting\n",
    "   - Section hierarchies\n",
    "   - Typography distinctions\n",
    "   - Tables and lists\n",
    "5. Clean up OCR artifacts\n",
    "6. Ensure maximum text accuracy\n",
    "7. Handle multi-column layouts intelligently\n",
    "8. Detect and properly format headers, paragraphs, captions\n",
    "\n",
    "Output requirements:\n",
    "- Fully searchable markdown file\n",
    "- Professional formatting\n",
    "- No OCR noise/errors\n",
    "- Semantic markdown structure\n",
    "- Readable and well-organized\n",
    "\"\"\"\n",
    "\n",
    "\n",
    "# 9. If you encounter photos or ilustrations, describe them."
   ]
  },
  {
   "cell_type": "code",
   "execution_count": null,
   "metadata": {},
   "outputs": [],
   "source": [
    "# Concatenate context text\n",
    "context_text = \"\\n\\n---\\n\\n\".join([doc.page_content for doc in relevant_chunks])\n",
    "\n",
    "# Create prompt\n",
    "prompt_template = ChatPromptTemplate.from_template(PROMPT_TEMPLATE)\n",
    "prompt = prompt_template.format(context=context_text, \n",
    "                                question=\"What is the title of the paper?\")\n",
    "print(prompt)"
   ]
  },
  {
   "cell_type": "code",
   "execution_count": null,
   "metadata": {},
   "outputs": [],
   "source": [
    "llm.invoke(prompt)\n"
   ]
  },
  {
   "cell_type": "code",
   "execution_count": null,
   "metadata": {},
   "outputs": [],
   "source": [
    "# Using Langchain Expression Language\n",
    "def format_docs(docs):\n",
    "    return \"\\n\\n\".join(doc.page_content for doc in docs)\n",
    "\n",
    "rag_chain = (\n",
    "            {\"context\": retriever | format_docs, \"question\": RunnablePassthrough()}\n",
    "            | prompt_template\n",
    "            | llm\n",
    "        )\n",
    "rag_chain.invoke(\"What's the title of this paper?\")"
   ]
  },
  {
   "cell_type": "code",
   "execution_count": null,
   "metadata": {},
   "outputs": [],
   "source": [
    "# Generate structured responses\n"
   ]
  },
  {
   "cell_type": "markdown",
   "metadata": {},
   "source": [
    "## vision test"
   ]
  },
  {
   "cell_type": "code",
   "execution_count": 6,
   "metadata": {},
   "outputs": [],
   "source": [
    "import base64\n",
    "def encode_image(image_path):\n",
    "    with open(image_path, \"rb\") as image_file:\n",
    "        return base64.b64encode(image_file.read()).decode('utf-8')"
   ]
  },
  {
   "cell_type": "code",
   "execution_count": 26,
   "metadata": {},
   "outputs": [],
   "source": [
    "from langchain.chat_models import ChatOpenAI\n",
    "from langchain.schema.messages import HumanMessage, SystemMessage\n",
    "# gpt-4-turbo\n",
    "chat = ChatOpenAI(model=\"gpt-4o-mini\", max_tokens=1000)\n",
    "def send_chat(chat,prompt,encoded_image):\n",
    "    res=chat.invoke(\n",
    "    [\n",
    "        HumanMessage(\n",
    "            content=[\n",
    "                {\"type\": \"text\", \"text\": prompt},\n",
    "                {\n",
    "                    \"type\": \"image_url\",\n",
    "                    # \"image_url\": {\n",
    "                    #     \"url\": \"https://raw.githubusercontent.com/langchain-ai/langchain/master/docs/static/img/langchain_stack.png\",\n",
    "                    #     \"detail\": \"auto\",\n",
    "                    # },\n",
    "                    # \"image_url\": f\"data:image/png;base64,{base64_image}\"\n",
    "                    \"image_url\": {\"url\": f\"data:image/png;base64,{encoded_image}\"}\n",
    "                },\n",
    "            ]\n",
    "        )\n",
    "    ]\n",
    "    )\n",
    "    return res\n",
    "\n",
    "\n",
    "# bicycle example cost in 591 out 60 = 651\n",
    "# big page in 1000 out 584 = 1584 11sec"
   ]
  },
  {
   "cell_type": "code",
   "execution_count": 11,
   "metadata": {},
   "outputs": [],
   "source": [
    "# encoded_image = encode_image(\"data/boybicycle.jpg\")\n",
    "encoded_image = encode_image(\"data/ai1p103.jpeg\")"
   ]
  },
  {
   "cell_type": "code",
   "execution_count": 46,
   "metadata": {},
   "outputs": [],
   "source": [
    "# prompt=\"What is this image showing\"\n",
    "prompt=PROMPT_TEMPLATE"
   ]
  },
  {
   "cell_type": "code",
   "execution_count": 47,
   "metadata": {},
   "outputs": [],
   "source": [
    "response=send_chat(chat,prompt,encoded_image)"
   ]
  },
  {
   "cell_type": "code",
   "execution_count": 48,
   "metadata": {},
   "outputs": [
    {
     "name": "stderr",
     "output_type": "stream",
     "text": [
      "/var/folders/wj/hsg00rb90b76klzxn2nt3sk40000gn/T/ipykernel_21493/3202056457.py:1: PydanticDeprecatedSince20: The `dict` method is deprecated; use `model_dump` instead. Deprecated in Pydantic V2.0 to be removed in V3.0. See Pydantic V2 Migration Guide at https://errors.pydantic.dev/2.10/migration/\n",
      "  response.dict()\n"
     ]
    },
    {
     "data": {
      "text/plain": [
       "{'content': '```markdown\\n# PRACTICAR Y COMUNICAR\\n\\n## 7. MADRID\\n**P:** 165, **Ej. 1:** P 167, **Ej. 14 y 16**\\n\\nA. Estos son tres barrios de Madrid. ¿En qué barrio crees que vive cada persona?\\n\\n### BARRIOS EMBLEMÁTICOS DE MADRID\\n\\n**Lavapiés** está en el centro de Madrid. Es un barrio bohemio, antiguo y con pocos comodidades, pero con mucho encanto. Las calles son estrechas y hay muchos bares. En general, los alquileres no son muy caros y por eso muchos artistas y jóvenes viven aquí. En este barrio viven también muchos inmigrantes y gente mayor. En Lavapiés hay bastantes corrales, bloques de pisos pequeños con un patio interior comunitario.\\n\\n**Chamberí** es un barrio céntrico y bastante elegante. En la actualidad es uno de los barrios más caros de Madrid, con pisos grandes en edificios de principios del siglo xx. Tiene zonas peatonales, tiendas de todo tipo, gimnasios, cines... También hay muchos bares y restaurantes y es uno de los mejores barrios de Madrid para ir de tapas y salir de noche.\\n\\n**Vallecas** es un barrio obrero. Hay muchos edificios de viviendas baratas, construidos en los años 60 y 70. En este barrio no hay mucha oferta cultural, pero hay mercados, varias escuelas, muchas tiendas... Está un poco lejos del centro de la ciudad, pero está bien comunicado. Aquí vive mucha gente venida de otros lugares de España en los años 60.\\n\\n1. Ester Cruz  \\n   26 años / Profesora de yoga / Vive con dos amigas / Tiene una bicicleta / Le gusta ir al cine y salir de marcha.\\n\\n2. Conchita Casas  \\n   73 años / Jubilada / Vive con su prima Sole en un piso de alquiler / Le gusta jugar a las cartas con los vecinos, en el patio de su edificio.\\n\\n3. Alicia Fernández  \\n   53 años / Mujer de la limpieza / Vive con su marido y sus tres hijos en un bloque de pisos cerca de un parque.\\n\\nB. Ahora escucha a Fernando hablando de su barrio.  \\n¿En cuál de los tres barrios vive?\\n\\n## 8. MIS LUGARES PREFERIDOS\\n\\nPiensa en lugares interesantes de tu ciudad (una tienda, un restaurante, etc.). Luego, con la ayuda de un plano, cuenta a tus compañeros dónde están.\\n\\n> *Yo voy mucho a un bar que se llama Ritmo latino.  \\n> Ponen música en español todos los viernes y no es muy caro. Está en...  \\n> Pues en mi barrio hay una tienda de discos muy buena.  \\n> Tienen discos viejos de jazz y de blues. Está...*\\n```\\n',\n",
       " 'additional_kwargs': {},\n",
       " 'response_metadata': {'token_usage': {'completion_tokens': 574,\n",
       "   'prompt_tokens': 1025,\n",
       "   'total_tokens': 1599,\n",
       "   'completion_tokens_details': {'accepted_prediction_tokens': 0,\n",
       "    'audio_tokens': 0,\n",
       "    'reasoning_tokens': 0,\n",
       "    'rejected_prediction_tokens': 0},\n",
       "   'prompt_tokens_details': {'audio_tokens': 0, 'cached_tokens': 0}},\n",
       "  'model_name': 'gpt-4o-mini',\n",
       "  'system_fingerprint': 'fp_bd83329f63',\n",
       "  'finish_reason': 'stop',\n",
       "  'logprobs': None},\n",
       " 'type': 'ai',\n",
       " 'name': None,\n",
       " 'id': 'run-d3a0d314-9ae9-41a8-9ae4-b5d8dbb75059-0',\n",
       " 'example': False,\n",
       " 'tool_calls': [],\n",
       " 'invalid_tool_calls': [],\n",
       " 'usage_metadata': None}"
      ]
     },
     "execution_count": 48,
     "metadata": {},
     "output_type": "execute_result"
    }
   ],
   "source": [
    "response.dict()"
   ]
  },
  {
   "cell_type": "code",
   "execution_count": 49,
   "metadata": {},
   "outputs": [
    {
     "data": {
      "text/plain": [
       "'```markdown\\n# PRACTICAR Y COMUNICAR\\n\\n## 7. MADRID\\n**P:** 165, **Ej. 1:** P 167, **Ej. 14 y 16**\\n\\nA. Estos son tres barrios de Madrid. ¿En qué barrio crees que vive cada persona?\\n\\n### BARRIOS EMBLEMÁTICOS DE MADRID\\n\\n**Lavapiés** está en el centro de Madrid. Es un barrio bohemio, antiguo y con pocos comodidades, pero con mucho encanto. Las calles son estrechas y hay muchos bares. En general, los alquileres no son muy caros y por eso muchos artistas y jóvenes viven aquí. En este barrio viven también muchos inmigrantes y gente mayor. En Lavapiés hay bastantes corrales, bloques de pisos pequeños con un patio interior comunitario.\\n\\n**Chamberí** es un barrio céntrico y bastante elegante. En la actualidad es uno de los barrios más caros de Madrid, con pisos grandes en edificios de principios del siglo xx. Tiene zonas peatonales, tiendas de todo tipo, gimnasios, cines... También hay muchos bares y restaurantes y es uno de los mejores barrios de Madrid para ir de tapas y salir de noche.\\n\\n**Vallecas** es un barrio obrero. Hay muchos edificios de viviendas baratas, construidos en los años 60 y 70. En este barrio no hay mucha oferta cultural, pero hay mercados, varias escuelas, muchas tiendas... Está un poco lejos del centro de la ciudad, pero está bien comunicado. Aquí vive mucha gente venida de otros lugares de España en los años 60.\\n\\n1. Ester Cruz  \\n   26 años / Profesora de yoga / Vive con dos amigas / Tiene una bicicleta / Le gusta ir al cine y salir de marcha.\\n\\n2. Conchita Casas  \\n   73 años / Jubilada / Vive con su prima Sole en un piso de alquiler / Le gusta jugar a las cartas con los vecinos, en el patio de su edificio.\\n\\n3. Alicia Fernández  \\n   53 años / Mujer de la limpieza / Vive con su marido y sus tres hijos en un bloque de pisos cerca de un parque.\\n\\nB. Ahora escucha a Fernando hablando de su barrio.  \\n¿En cuál de los tres barrios vive?\\n\\n## 8. MIS LUGARES PREFERIDOS\\n\\nPiensa en lugares interesantes de tu ciudad (una tienda, un restaurante, etc.). Luego, con la ayuda de un plano, cuenta a tus compañeros dónde están.\\n\\n> *Yo voy mucho a un bar que se llama Ritmo latino.  \\n> Ponen música en español todos los viernes y no es muy caro. Está en...  \\n> Pues en mi barrio hay una tienda de discos muy buena.  \\n> Tienen discos viejos de jazz y de blues. Está...*\\n```\\n'"
      ]
     },
     "execution_count": 49,
     "metadata": {},
     "output_type": "execute_result"
    }
   ],
   "source": [
    "response.content"
   ]
  },
  {
   "cell_type": "code",
   "execution_count": 50,
   "metadata": {},
   "outputs": [],
   "source": [
    "def save_as_markdown(content, file_path):\n",
    "    \"\"\"\n",
    "    Saves the given content as a markdown file after trimming the first and last lines.\n",
    "\n",
    "    Args:\n",
    "        content (str): The content to be saved.\n",
    "        file_path (str): The path where the markdown file will be saved.\n",
    "\n",
    "    Returns:\n",
    "        None\n",
    "    \"\"\"\n",
    "    lines = content.split('\\n')\n",
    "    trimmed_content = '\\n'.join(lines[1:-2])\n",
    "    with open(file_path, 'w', encoding='utf-8') as file:\n",
    "        file.write(trimmed_content)\n",
    "\n",
    "# Example usage\n",
    "markdown_content = response.content\n",
    "file_path = 'output.md'\n",
    "save_as_markdown(markdown_content, file_path)"
   ]
  }
 ],
 "metadata": {
  "kernelspec": {
   "display_name": "venv",
   "language": "python",
   "name": "python3"
  },
  "language_info": {
   "codemirror_mode": {
    "name": "ipython",
    "version": 3
   },
   "file_extension": ".py",
   "mimetype": "text/x-python",
   "name": "python",
   "nbconvert_exporter": "python",
   "pygments_lexer": "ipython3",
   "version": "3.11.11"
  }
 },
 "nbformat": 4,
 "nbformat_minor": 2
}
